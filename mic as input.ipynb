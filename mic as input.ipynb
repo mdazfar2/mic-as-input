{
 "cells": [
  {
   "cell_type": "code",
   "execution_count": 1,
   "id": "63c7afaf",
   "metadata": {},
   "outputs": [
    {
     "ename": "NameError",
     "evalue": "name '_name_' is not defined",
     "output_type": "error",
     "traceback": [
      "\u001b[1;31m---------------------------------------------------------------------------\u001b[0m",
      "\u001b[1;31mNameError\u001b[0m                                 Traceback (most recent call last)",
      "Cell \u001b[1;32mIn[1], line 39\u001b[0m\n\u001b[0;32m     35\u001b[0m     engine\u001b[38;5;241m.\u001b[39msetProperty(\u001b[38;5;124m\"\u001b[39m\u001b[38;5;124moutput\u001b[39m\u001b[38;5;124m\"\u001b[39m, \u001b[38;5;124m\"\u001b[39m\u001b[38;5;124mauto\u001b[39m\u001b[38;5;124m\"\u001b[39m)  \u001b[38;5;66;03m# Set the audio output to the default system audio\u001b[39;00m\n\u001b[0;32m     37\u001b[0m set_audio_output()\n\u001b[1;32m---> 39\u001b[0m \u001b[38;5;28;01mif\u001b[39;00m _name_ \u001b[38;5;241m==\u001b[39m \u001b[38;5;124m\"\u001b[39m\u001b[38;5;124m_main_\u001b[39m\u001b[38;5;124m\"\u001b[39m:\n\u001b[0;32m     40\u001b[0m     \u001b[38;5;28;01mwhile\u001b[39;00m \u001b[38;5;28;01mTrue\u001b[39;00m:\n\u001b[0;32m     41\u001b[0m         recognized_text \u001b[38;5;241m=\u001b[39m recognize_speech()\n",
      "\u001b[1;31mNameError\u001b[0m: name '_name_' is not defined"
     ]
    }
   ],
   "source": [
    "import speech_recognition as sr\n",
    "import pyttsx3\n",
    "import webbrowser\n",
    "import time\n",
    "import pyautogui\n",
    "\n",
    "def speak(text):\n",
    "    engine = pyttsx3.init()\n",
    "    engine.say(text)\n",
    "    engine.runAndWait()\n",
    "\n",
    "def recognize_speech():\n",
    "    recognizer = sr.Recognizer()\n",
    "\n",
    "    with sr.Microphone() as source:\n",
    "        print(\"Listening...\")\n",
    "        audio = recognizer.listen(source)\n",
    "\n",
    "    try:\n",
    "        print(\"Recognizing...\")\n",
    "        text = recognizer.recognize_google(audio)\n",
    "        print(\"You said:\", text)\n",
    "        return text.lower()\n",
    "    except sr.UnknownValueError:\n",
    "        print(\"Sorry, could not understand audio.\")\n",
    "    except sr.RequestError as e:\n",
    "        print(f\"Error with the speech recognition service; {e}\")\n",
    "\n",
    "    return None\n",
    "\n",
    "def set_audio_output():\n",
    "    engine = pyttsx3.init()\n",
    "    voices = engine.getProperty(\"voices\")\n",
    "    engine.setProperty(\"voice\", voices[1].id)  # Select the desired voice (change the index if needed)\n",
    "    engine.setProperty(\"output\", \"auto\")  # Set the audio output to the default system audio\n",
    "\n",
    "set_audio_output()\n",
    "\n",
    "if _name_ == \"_main_\":\n",
    "    while True:\n",
    "        recognized_text = recognize_speech()\n",
    "        if recognized_text:\n",
    "            if \"google\" in recognized_text:\n",
    "                speak(\"Opening Google.\")\n",
    "                webbrowser.open(\"https://www.google.com\")\n",
    "            elif \"youtube\" in recognized_text:\n",
    "                speak(\"Opening YouTube.\")\n",
    "                webbrowser.open(\"https://www.youtube.com\")\n",
    "                # Wait for a moment before searching for music\n",
    "                speak(\"What music would you like to listen to?\")\n",
    "                time.sleep(3)  # Wait for 3 seconds to give you time to respond\n",
    "                music_name = recognize_speech()\n",
    "                if music_name:\n",
    "                    url = f\"https://www.youtube.com/results?search_query={music_name}\"\n",
    "                    webbrowser.open(url)\n",
    "                    time.sleep(5)  # Wait for the search results page to load\n",
    "                    # Click on the first video link\n",
    "                    pyautogui.click(x=800, y=380)  # Adjust the coordinates as per your screen resolution\n",
    "            elif \"python\" in recognized_text and \"code\" in recognized_text:\n",
    "                speak(\"Opening Chrome and searching for Python code.\")\n",
    "                webbrowser.open(\"https://www.google.com/search?q=Python+code\")\n",
    "            elif \"exit\" in recognized_text or \"stop\" in recognized_text:\n",
    "                speak(\"Goodbye!\")\n",
    "                break"
   ]
  },
  {
   "cell_type": "code",
   "execution_count": null,
   "id": "57093494",
   "metadata": {},
   "outputs": [],
   "source": []
  }
 ],
 "metadata": {
  "kernelspec": {
   "display_name": "Python 3 (ipykernel)",
   "language": "python",
   "name": "python3"
  },
  "language_info": {
   "codemirror_mode": {
    "name": "ipython",
    "version": 3
   },
   "file_extension": ".py",
   "mimetype": "text/x-python",
   "name": "python",
   "nbconvert_exporter": "python",
   "pygments_lexer": "ipython3",
   "version": "3.11.3"
  }
 },
 "nbformat": 4,
 "nbformat_minor": 5
}
